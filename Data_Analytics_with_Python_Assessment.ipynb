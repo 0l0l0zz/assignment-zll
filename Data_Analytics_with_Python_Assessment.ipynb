{
  "nbformat": 4,
  "nbformat_minor": 0,
  "metadata": {
    "colab": {
      "provenance": [],
      "collapsed_sections": [
        "jXkjbG86QL5G",
        "3ZF33AOoRP9Z",
        "M8GDnps-RR9q",
        "knNIuhCoSFNx",
        "osg640SM-ySa",
        "FpJ9_gGH_g9Z",
        "kydBDNX0AWbd",
        "z9mN8HDMCreb",
        "GnePX9mfC-6I",
        "uWZZN2JGDPoQ",
        "u6rhIsN6DzXO",
        "atghBU1UEFja",
        "SRu7LPAYEOjw",
        "ZT4ReqO1EWyJ"
      ]
    },
    "kernelspec": {
      "name": "python3",
      "display_name": "Python 3"
    },
    "language_info": {
      "name": "python"
    }
  },
  "cells": [
    {
      "cell_type": "markdown",
      "source": [
        "# Introduction\n",
        "\n",
        "This assessment aims to evaluate your understanding and application of the concepts covered in the Data Analytics course. You will be tasked with analyzing a dataset related to remote work and mental health, utilizing various data manipulation, statistical analysis, and visualization techniques learned throughout the course. This exercise will help reinforce your skills in data handling, exploratory analysis, and drawing meaningful insights from data.\n",
        "\n",
        "### Submission Details:\n",
        "\n",
        "The deadline for submission is 16 November at 11:59 PM. Specific submission details will be shared with you shortly.\n",
        "\n",
        "### Passing Criteria:\n",
        "\n",
        "To successfully pass this assessment, you must achieve a score of 80% or higher.\n",
        "We encourage you to engage with the material and demonstrate your analytical skills. Good luck!\n",
        "\n",
        "\n",
        "---\n",
        "\n"
      ],
      "metadata": {
        "id": "ZofcnJAIJHaX"
      }
    },
    {
      "cell_type": "markdown",
      "source": [
        "# Section 1 - Beginner (25%)\n"
      ],
      "metadata": {
        "id": "t6EemGQaDLyU"
      }
    },
    {
      "cell_type": "markdown",
      "source": [
        "## Shopping Cart System with Discounts\n",
        "\n",
        "Write a Python program to simulate a shopping cart system for an online store. The program will calculate the total cost of items, apply discounts, and check if the total exceeds a specified budget."
      ],
      "metadata": {
        "id": "IEQXM5QADPRl"
      }
    },
    {
      "cell_type": "markdown",
      "source": [
        "1.\tVariables and Lists:\n",
        "  - Define a `budget` variable with an initial value of 200.\n",
        "  \n",
        "  - Create two empty lists called `item_names_list` and `item_prices_list` to store the name and price of each item separately."
      ],
      "metadata": {
        "id": "dKkPEPpCDyda"
      }
    },
    {
      "cell_type": "code",
      "execution_count": null,
      "metadata": {
        "id": "4lXTHMaCC8VO",
        "outputId": "dc016b51-06cc-461d-eb7c-fd58573bf523",
        "colab": {
          "base_uri": "https://localhost:8080/"
        }
      },
      "outputs": [
        {
          "name": "stdout",
          "output_type": "stream",
          "text": [
            "Welcome to the Shopping Cart System!\n",
            "Enter your budget: 200\n",
            "\n",
            "Options:\n",
            "1. Add item to cart\n",
            "2. View cart\n",
            "3. Calculate total\n",
            "4. Apply discount\n",
            "5. Check budget\n",
            "6. Exit\n",
            "Choose an option: 1\n"
          ]
        }
      ],
      "source": [
        "# Write your code here\n",
        "class ShoppingCart:\n",
        "    def __init__(self, budget):\n",
        "        \"\"\"\n",
        "        Initialize the shopping cart with an empty list and a budget.\n",
        "        \"\"\"\n",
        "        self.cart = []  # List to store items in the cart\n",
        "        self.budget = budget  # User's budget\n",
        "\n",
        "    def add_item(self, item_name, price, quantity=1):\n",
        "        \"\"\"\n",
        "        Add an item to the shopping cart.\n",
        "        \"\"\"\n",
        "        self.cart.append({\"item_name\": item_name, \"price\": price, \"quantity\": quantity})\n",
        "        print(f\"Added {quantity} x {item_name} to the cart.\")\n",
        "\n",
        "    def view_cart(self):\n",
        "        \"\"\"\n",
        "        Display all items in the shopping cart.\n",
        "        \"\"\"\n",
        "        if not self.cart:\n",
        "            print(\"Your cart is empty.\")\n",
        "            return\n",
        "        print(\"\\nShopping Cart Contents:\")\n",
        "        for item in self.cart:\n",
        "            print(f\"{item['quantity']} x {item['item_name']} @ ${item['price']:.2f} each\")\n",
        "        print(\"\\n\")\n",
        "\n",
        "    def calculate_total(self):\n",
        "        \"\"\"\n",
        "        Calculate the total cost of items in the cart.\n",
        "        \"\"\"\n",
        "        total = sum(item[\"price\"] * item[\"quantity\"] for item in self.cart)\n",
        "        return total\n",
        "\n",
        "    def apply_discount(self, discount_percent):\n",
        "        \"\"\"\n",
        "        Apply a discount to the total cost and return the discounted total.\n",
        "        \"\"\"\n",
        "        total = self.calculate_total()\n",
        "        discount = total * (discount_percent / 100)\n",
        "        print(f\"A discount of {discount_percent}% has been applied. You saved ${discount:.2f}.\")\n",
        "        return total - discount\n",
        "\n",
        "    def check_budget(self, discounted_total):\n",
        "        \"\"\"\n",
        "        Check if the total cost exceeds the user's budget.\n",
        "        \"\"\"\n",
        "        if discounted_total > self.budget:\n",
        "            print(f\"Warning: Your total (${discounted_total:.2f}) exceeds your budget of ${self.budget:.2f}.\")\n",
        "        else:\n",
        "            print(f\"Your total (${discounted_total:.2f}) is within your budget of ${self.budget:.2f}.\")\n",
        "\n",
        "def main():\n",
        "    \"\"\"\n",
        "    Main function to run the shopping cart program.\n",
        "    \"\"\"\n",
        "    print(\"Welcome to the Shopping Cart System!\")\n",
        "    budget = float(input(\"Enter your budget: \"))\n",
        "    cart = ShoppingCart(budget)  # Create a shopping cart instance with the specified budget\n",
        "\n",
        "    while True:\n",
        "        # Display menu options\n",
        "        print(\"\\nOptions:\")\n",
        "        print(\"1. Add item to cart\")\n",
        "        print(\"2. View cart\")\n",
        "        print(\"3. Calculate total\")\n",
        "        print(\"4. Apply discount\")\n",
        "        print(\"5. Check budget\")\n",
        "        print(\"6. Exit\")\n",
        "\n",
        "        choice = input(\"Choose an option: \")\n",
        "\n",
        "        if choice == \"1\":\n",
        "            # Add an item to the cart\n",
        "            item_name = input(\"Enter the item name: \")\n",
        "            price = float(input(\"Enter the item price: \"))\n",
        "            quantity = int(input(\"Enter the quantity: \"))\n",
        "            cart.add_item(item_name, price, quantity)\n",
        "        elif choice == \"2\":\n",
        "            # View the cart contents\n",
        "            cart.view_cart()\n",
        "        elif choice == \"3\":\n",
        "            # Calculate and display the total cost\n",
        "            total = cart.calculate_total()\n",
        "            print(f\"The total cost of items in your cart is: ${total:.2f}\")\n",
        "        elif choice == \"4\":\n",
        "            # Apply a discount to the total cost\n",
        "            discount = float(input(\"Enter the discount percentage: \"))\n",
        "            discounted_total = cart.apply_discount(discount)\n",
        "        elif choice == \"5\":\n",
        "            # Check if the total is within the budget\n",
        "            if 'discounted_total' in locals():\n",
        "                cart.check_budget(discounted_total)\n",
        "            else:\n",
        "                total = cart.calculate_total()\n",
        "                cart.check_budget(total)\n",
        "        elif choice == \"6\":\n",
        "            # Exit the program\n",
        "            print(\"Thank you for shopping with us!\")\n",
        "            break\n",
        "        else:\n",
        "            # Handle invalid input\n",
        "            print(\"Invalid option. Please try again.\")\n",
        "\n",
        "if __name__ == \"__main__\":\n",
        "    main()\n"
      ]
    },
    {
      "cell_type": "markdown",
      "source": [
        "2. Functions:\n",
        "  - Write a function `add_item_to_cart(item_name, item_price)` that takes the item’s name and price as arguments, appends the name to item_names and the price to item_prices, and returns both updated lists.\n",
        "  \n",
        "  - Write a function `calculate_total(item_prices)` that calculates and returns the total cost of all items in item_prices.\n",
        "\n",
        "    Conditions:\n",
        "    - If the total cost exceeds the budget after adding an item, print \"Budget exceeded!\" and stop adding more items.\n",
        "    - If the total cost is within budget and exceeds $100, apply a 10% discount on the total and print the discounted total."
      ],
      "metadata": {
        "id": "wRAwexQhD0cq"
      }
    },
    {
      "cell_type": "code",
      "source": [
        "def add_item_to_cart(item_name, item_price, item_names, item_prices, budget):\n",
        "    \"\"\"\n",
        "    Add an item to the cart if the total stays within budget.\n",
        "    \"\"\"\n",
        "    total = calculate_total(item_prices) + item_price\n",
        "    if total > budget:\n",
        "        print(\"Budget exceeded! Cannot add more items.\")\n",
        "        return item_names, item_prices, False\n",
        "    else:\n",
        "        item_names.append(item_name)\n",
        "        item_prices.append(item_price)\n",
        "        print(f\"Added {item_name} for ${item_price:.2f}.\")\n",
        "        return item_names, item_prices, True\n",
        "\n",
        "\n",
        "def calculate_total(item_prices):\n",
        "    \"\"\"\n",
        "    Calculate the total cost of items in the cart.\n",
        "    \"\"\"\n",
        "    return sum(item_prices)\n",
        "\n",
        "\n",
        "def main():\n",
        "    \"\"\"\n",
        "    Run the shopping cart program: add items, check budget, and apply discounts.\n",
        "    \"\"\"\n",
        "    item_names = []  # Store names of items\n",
        "    item_prices = []  # Store prices of items\n",
        "    budget = float(input(\"Enter your budget: \"))  # User budget input\n",
        "\n",
        "    while True:\n",
        "        # Input item details or finish adding items\n",
        "        item_name = input(\"Enter the item name (or 'done' to finish): \")\n",
        "        if item_name.lower() == 'done':\n",
        "            break\n",
        "        item_price = float(input(f\"Enter the price for {item_name}: \"))\n",
        "\n",
        "        # Add item to the cart\n",
        "        item_names, item_prices, can_continue = add_item_to_cart(\n",
        "            item_name, item_price, item_names, item_prices, budget\n",
        "        )\n",
        "        if not can_continue:\n",
        "            break\n",
        "\n",
        "    # Calculate the final total and check for discounts\n",
        "    total = calculate_total(item_prices)\n",
        "    print(\"\\nCart Summary:\")\n",
        "    print(\"Items:\", item_names)\n",
        "    print(\"Prices:\", item_prices)\n",
        "    print(f\"Total cost: ${total:.2f}\")\n",
        "\n",
        "    if total > 100:\n",
        "        discount = total * 0.1\n",
        "        discounted_total = total - discount\n",
        "        print(f\"Discount applied! Final total after 10% discount: ${discounted_total:.2f}\")\n",
        "    else:\n",
        "        print(\"No discount applied.\")\n",
        "\n",
        "if __name__ == \"__main__\":\n",
        "    main()\n"
      ],
      "metadata": {
        "id": "g_UiAVHSD3UK",
        "outputId": "2ed232f1-9285-473d-d22a-34be86362696",
        "colab": {
          "base_uri": "https://localhost:8080/"
        }
      },
      "execution_count": 2,
      "outputs": [
        {
          "output_type": "stream",
          "name": "stdout",
          "text": [
            "Enter your budget: 200\n",
            "Enter the item name (or 'done' to finish): apple\n",
            "Enter the price for apple: 10\n",
            "Added apple for $10.00.\n",
            "Enter the item name (or 'done' to finish): mouse\n",
            "Enter the price for mouse: 100\n",
            "Added mouse for $100.00.\n",
            "Enter the item name (or 'done' to finish): done\n",
            "\n",
            "Cart Summary:\n",
            "Items: ['apple', 'mouse']\n",
            "Prices: [10.0, 100.0]\n",
            "Total cost: $110.00\n",
            "Discount applied! Final total after 10% discount: $99.00\n"
          ]
        }
      ]
    },
    {
      "cell_type": "markdown",
      "source": [
        "3.\tLoop and Input:\n",
        "  - Start the input only once the user says 'start'\n",
        "  - Use a loop to allow the user to add items to the cart by entering an item name and price. The loop should stop when the user types 'done'.\n",
        "  - For each item, add it to item_names and item_prices using add_item_to_cart, then update the total cost using calculate_total.\n",
        "\n",
        "Output:\n",
        "  - After the loop ends, display the final cart with each item and its price, the initial total, any applicable discount, and the final total.\n"
      ],
      "metadata": {
        "id": "B22U5SdVEKeH"
      }
    },
    {
      "cell_type": "code",
      "source": [
        "def add_item_to_cart(item_name, item_price, item_names, item_prices):\n",
        "    \"\"\"\n",
        "    Add an item to the cart.\n",
        "    \"\"\"\n",
        "    item_names.append(item_name)\n",
        "    item_prices.append(item_price)\n",
        "    print(f\"Added {item_name} for ${item_price:.2f}.\")\n",
        "    return item_names, item_prices\n",
        "\n",
        "\n",
        "def calculate_total(item_prices):\n",
        "    \"\"\"\n",
        "    Calculate the total cost of items in the cart.\n",
        "    \"\"\"\n",
        "    return sum(item_prices)\n",
        "\n",
        "\n",
        "def main():\n",
        "    \"\"\"\n",
        "    Run the shopping cart program: wait for user input, add items, and calculate totals.\n",
        "    \"\"\"\n",
        "    print(\"Welcome to the Shopping Cart!\")\n",
        "    start_command = input(\"Type 'start' to begin: \").strip().lower()\n",
        "\n",
        "    # Wait for the user to type 'start' before proceeding\n",
        "    while start_command != \"start\":\n",
        "        start_command = input(\"Type 'start' to begin: \").strip().lower()\n",
        "\n",
        "    item_names = []  # List to store names of items\n",
        "    item_prices = []  # List to store prices of items\n",
        "\n",
        "    print(\"\\nLet's start adding items to the cart!\")\n",
        "    while True:\n",
        "        # Get user input for item name and price\n",
        "        item_name = input(\"Enter the item name (or 'done' to finish): \").strip()\n",
        "        if item_name.lower() == \"done\":\n",
        "            break\n",
        "\n",
        "        item_price = float(input(f\"Enter the price for {item_name}: \"))\n",
        "        # Add item to the cart\n",
        "        item_names, item_prices = add_item_to_cart(item_name, item_price, item_names, item_prices)\n",
        "\n",
        "    # Calculate the final total\n",
        "    initial_total = calculate_total(item_prices)\n",
        "\n",
        "    print(\"\\nFinal Cart Summary:\")\n",
        "    for name, price in zip(item_names, item_prices):\n",
        "        print(f\"{name}: ${price:.2f}\")\n",
        "    print(f\"Initial Total: ${initial_total:.2f}\")\n",
        "\n",
        "    # Apply discount if applicable\n",
        "    if initial_total > 100:\n",
        "        discount = initial_total * 0.1\n",
        "        final_total = initial_total - discount\n",
        "        print(f\"Discount Applied: ${discount:.2f}\")\n",
        "    else:\n",
        "        discount = 0\n",
        "        final_total = initial_total\n",
        "        print(\"No discount applied.\")\n",
        "\n",
        "    print(f\"Final Total: ${final_total:.2f}\")\n",
        "\n",
        "\n",
        "if __name__ == \"__main__\":\n",
        "    main()\n"
      ],
      "metadata": {
        "id": "CJtjsE8YD6Mv",
        "outputId": "652e648b-adf0-4d36-8139-19d65a48cd01",
        "colab": {
          "base_uri": "https://localhost:8080/"
        }
      },
      "execution_count": 4,
      "outputs": [
        {
          "output_type": "stream",
          "name": "stdout",
          "text": [
            "Welcome to the Shopping Cart!\n",
            "Type 'start' to begin: starrt\n",
            "Type 'start' to begin: start\n",
            "\n",
            "Let's start adding items to the cart!\n",
            "Enter the item name (or 'done' to finish): apple\n",
            "Enter the price for apple: 100000\n",
            "Added apple for $100000.00.\n",
            "Enter the item name (or 'done' to finish): done\n",
            "\n",
            "Final Cart Summary:\n",
            "apple: $100000.00\n",
            "Initial Total: $100000.00\n",
            "Discount Applied: $10000.00\n",
            "Final Total: $90000.00\n"
          ]
        }
      ]
    },
    {
      "cell_type": "code",
      "source": [
        "# Write your code here"
      ],
      "metadata": {
        "id": "M9IlBMeDEOxd"
      },
      "execution_count": null,
      "outputs": []
    },
    {
      "cell_type": "markdown",
      "source": [
        "# Section 2 - Intermidiate (55%) - Remote Work and Mental Health Analysis\n",
        "\n",
        "Dataset source: Kaggle (https://www.kaggle.com/datasets/waqi786/remote-work-and-mental-health)\n",
        "\n",
        "\n"
      ],
      "metadata": {
        "id": "jXkjbG86QL5G"
      }
    },
    {
      "cell_type": "markdown",
      "source": [
        "## Objective:\n",
        "- In the following sections, you will explore the \"Remote Work and Mental Health\" dataset using Python and different data science libraries such as Pandas, NumPy and Matplotlib.\n",
        "- Follow the instructions below to complete each task. Please provide code for each question and any observations as comments when necessary."
      ],
      "metadata": {
        "id": "3ZF33AOoRP9Z"
      }
    },
    {
      "cell_type": "code",
      "source": [
        "# Import necessary modules and libraries\n",
        "import pandas as pd\n",
        "import numpy as np\n",
        "import matplotlib.pyplot as plt\n"
      ],
      "metadata": {
        "id": "zX8_bEfKSGcB"
      },
      "execution_count": 5,
      "outputs": []
    },
    {
      "cell_type": "markdown",
      "source": [
        "## 1. Load Dataset (2 marks)\n",
        "- Instructions: Load the dataset using Pandas and display few rows.\n",
        "- Question: Describe the overall structure (rows, columns, data types) as a comment at the end of your code.\n"
      ],
      "metadata": {
        "id": "M8GDnps-RR9q"
      }
    },
    {
      "cell_type": "code",
      "source": [
        "# Load the dataset\n",
        "data = pd.read_csv('/mnt/data/Impact_of_Remote_Work_on_Mental_Health.csv')\n",
        "\n",
        "# Display first few rows\n",
        "print(data.head())\n",
        "\n",
        "# Describe the dataset structure\n",
        "print(f\"Dataset has {data.shape[0]} rows and {data.shape[1]} columns.\")\n",
        "print(\"Column data types:\")\n",
        "print(data.dtypes)\n",
        "\n"
      ],
      "metadata": {
        "id": "iN_Ne4xKSE_g"
      },
      "execution_count": null,
      "outputs": []
    },
    {
      "cell_type": "markdown",
      "source": [
        "## 2. Display 'n' Rows (3 marks)\n",
        "- Instructions: Display the first 13 rows of the dataset."
      ],
      "metadata": {
        "id": "knNIuhCoSFNx"
      }
    },
    {
      "cell_type": "code",
      "source": [
        "# Write code here\n",
        "# Display the first 13 rows\n",
        "print(data.head(13))\n"
      ],
      "metadata": {
        "id": "aojeUCP3-DlN"
      },
      "execution_count": null,
      "outputs": []
    },
    {
      "cell_type": "markdown",
      "source": [
        "- Instructions: Display the last 7 rows of the dataset"
      ],
      "metadata": {
        "id": "iNJ7GvJt-EJk"
      }
    },
    {
      "cell_type": "code",
      "source": [
        "# Write code here\n",
        "print(\"\\nLast 7 rows of the dataset:\")\n",
        "print(data.tail(7))"
      ],
      "metadata": {
        "id": "bvxs1GHK-Iv4"
      },
      "execution_count": null,
      "outputs": []
    },
    {
      "cell_type": "markdown",
      "source": [
        "## 3. Find the Number of Null Values in the Dataset (2 mark)"
      ],
      "metadata": {
        "id": "osg640SM-ySa"
      }
    },
    {
      "cell_type": "code",
      "source": [
        "# Write code here\n",
        "print(\"\\nNumber of null values in each column:\")\n",
        "print(null_counts)"
      ],
      "metadata": {
        "id": "VL7WVh2x_e2u"
      },
      "execution_count": null,
      "outputs": []
    },
    {
      "cell_type": "markdown",
      "source": [
        "## 4. Statistical Summary for Numeric Columns (10 marks)\n",
        "Instructions: Use individual commands to find the statistical summary."
      ],
      "metadata": {
        "id": "FpJ9_gGH_g9Z"
      }
    },
    {
      "cell_type": "markdown",
      "source": [
        "- Count"
      ],
      "metadata": {
        "id": "8R-SXWwY_msH"
      }
    },
    {
      "cell_type": "code",
      "source": [
        "# Write code here\n",
        "count_values = data.select_dtypes(include=['int64', 'float64']).count()\n",
        "print(\"Count for each numeric column:\")\n",
        "print(count_values)"
      ],
      "metadata": {
        "id": "rdhV-VNf_gcm"
      },
      "execution_count": null,
      "outputs": []
    },
    {
      "cell_type": "markdown",
      "source": [
        "- Mean"
      ],
      "metadata": {
        "id": "3sHkuqIM_wLh"
      }
    },
    {
      "cell_type": "code",
      "source": [
        "# Write code here\n",
        "mean_values = data.select_dtypes(include=['int64', 'float64']).mean()\n",
        "print(\"\\nMean for each numeric column:\")\n",
        "print(mean_values)"
      ],
      "metadata": {
        "id": "MyCg6EO4_v1V"
      },
      "execution_count": null,
      "outputs": []
    },
    {
      "cell_type": "markdown",
      "source": [
        "- Standard Deviation"
      ],
      "metadata": {
        "id": "S3KSqJm2_vob"
      }
    },
    {
      "cell_type": "code",
      "source": [
        "# Write code here\n",
        "std_values = data.select_dtypes(include=['int64', 'float64']).std()\n",
        "print(\"\\nStandard Deviation for each numeric column:\")\n",
        "print(std_values)"
      ],
      "metadata": {
        "id": "sKUiXGdy_y_7"
      },
      "execution_count": null,
      "outputs": []
    },
    {
      "cell_type": "markdown",
      "source": [
        "- Quartiles"
      ],
      "metadata": {
        "id": "NvmOKMtoABPG"
      }
    },
    {
      "cell_type": "code",
      "source": [
        "# Write code here\n",
        "quartiles = data.select_dtypes(include=['int64', 'float64']).quantile([0.25, 0.5, 0.75])\n",
        "print(\"\\nQuartiles for each numeric column:\")\n",
        "print(quartiles)"
      ],
      "metadata": {
        "id": "TVThkvwx_0zt"
      },
      "execution_count": null,
      "outputs": []
    },
    {
      "cell_type": "markdown",
      "source": [
        "## 5. Calculate Extrema (2 marks)"
      ],
      "metadata": {
        "id": "kydBDNX0AWbd"
      }
    },
    {
      "cell_type": "code",
      "source": [
        "# Write code here\n",
        "min_values = data.min(numeric_only=True)\n",
        "max_values = data.max(numeric_only=True)\n",
        "print(\"\\nMinimum values for numeric columns:\")\n",
        "print(min_values)\n",
        "print(\"\\nMaximum values for numeric columns:\")\n",
        "print(max_values)"
      ],
      "metadata": {
        "id": "u6cVQN3l_0ut"
      },
      "execution_count": null,
      "outputs": []
    },
    {
      "cell_type": "markdown",
      "source": [
        "## 6. Find Unique Values in a Categorical Column (3 marks)\n",
        "\n",
        "- Instructions: Identify the unique values in the `job_role` column (2 marks)\n",
        "- Question: How many unique roles are represented in the dataset? (1 mark)"
      ],
      "metadata": {
        "id": "z9mN8HDMCreb"
      }
    },
    {
      "cell_type": "code",
      "source": [
        "# Write code here\n",
        "unique_roles = data['Job_Role'].unique()\n",
        "unique_roles_count = len(unique_roles)\n",
        "print(f\"\\nNumber of unique job roles: {unique_roles_count}\")\n",
        "print(\"Unique job roles:\", unique_roles)"
      ],
      "metadata": {
        "id": "WO3P27X-_0pl"
      },
      "execution_count": null,
      "outputs": []
    },
    {
      "cell_type": "markdown",
      "source": [
        "## 7. Group Data and Calculate Mean (4 marks)\n",
        "- Instructions: Group the dataset by `job_role` and calculate the mean of the `Work_Life_Balance_Rating` for each role.\n",
        "- Question: Which job role has the highest average Work life balance?"
      ],
      "metadata": {
        "id": "GnePX9mfC-6I"
      }
    },
    {
      "cell_type": "code",
      "source": [
        "# Write code here\n",
        "\n",
        "mean_wlb = data.groupby('Job_Role')['Work_Life_Balance_Rating'].mean()\n",
        "highest_wlb_role = mean_wlb.idxmax()\n",
        "highest_wlb_rating = mean_wlb.max()\n",
        "print(f\"\\nJob role with the highest average Work Life Balance Rating: '{highest_wlb_role}' with a rating of {highest_wlb_rating:.2f}.\")"
      ],
      "metadata": {
        "id": "FDp0ZL9R_0j1"
      },
      "execution_count": null,
      "outputs": []
    },
    {
      "cell_type": "markdown",
      "source": [
        "## 8. Filter Data Based on Condition (4 marks)\n",
        "- Instructions: Filter the dataset to show only rows where `work_hours_per_week` is greater than 40.\n",
        "- Question: How many employees are working overtime?"
      ],
      "metadata": {
        "id": "uWZZN2JGDPoQ"
      }
    },
    {
      "cell_type": "code",
      "source": [
        "# Write code here\n",
        "overtime_employees = data[data['Hours_Worked_Per_Week'] > 40]\n",
        "overtime_count = len(overtime_employees)\n",
        "print(f\"\\nNumber of employees working more than 40 hours per week: {overtime_count}\")\n"
      ],
      "metadata": {
        "id": "hq77PsstDPWJ"
      },
      "execution_count": null,
      "outputs": []
    },
    {
      "cell_type": "markdown",
      "source": [
        "## 9 . Histogram of Work Hours per Week (5 marks)\n",
        "- Instructions: Create a histogram of `Hours_Worked_Per_Week` (4 marks).\n",
        "- Question: Describe the distribution of work hours. Are most employees working around a certain number of hours per week? (1 mark)"
      ],
      "metadata": {
        "id": "u6rhIsN6DzXO"
      }
    },
    {
      "cell_type": "code",
      "source": [
        "# Write code here\n",
        "plt.figure(figsize=(8, 5))\n",
        "plt.hist(data['Hours_Worked_Per_Week'], bins=10, edgecolor='black')\n",
        "plt.xlabel('Work Hours Per Week')\n",
        "plt.ylabel('Frequency')\n",
        "plt.title('Distribution of Work Hours Per Week')\n",
        "plt.show()"
      ],
      "metadata": {
        "id": "oxPN35Ui_0em"
      },
      "execution_count": null,
      "outputs": []
    },
    {
      "cell_type": "markdown",
      "source": [
        "## 10. Scatter Plot of Work Hours vs. Years_of_Experience (4 marks)\n",
        "- Instructions: Create a scatter plot with `Hours_Worked_Per_Week` on the x-axis and `Years_of_Experience` on the y-axis."
      ],
      "metadata": {
        "id": "atghBU1UEFja"
      }
    },
    {
      "cell_type": "code",
      "source": [
        "# Write code here\n",
        "\n",
        "plt.figure(figsize=(8, 5))\n",
        "plt.scatter(data['Hours_Worked_Per_Week'], data['Years_of_Experience'], alpha=0.7)\n",
        "plt.xlabel('Work Hours Per Week')\n",
        "plt.ylabel('Years of Experience')\n",
        "plt.title('Work Hours vs. Years of Experience')\n",
        "plt.show()"
      ],
      "metadata": {
        "id": "0vYnYIhP_0ZV"
      },
      "execution_count": null,
      "outputs": []
    },
    {
      "cell_type": "markdown",
      "source": [
        "## 11. Bar Chart of Average Work Life Balance by Job Role (5 marks)\n",
        "- Instructions: Create a bar chart showing the average `Work_Life_Balance_Rating` for each `Job_Role` (4 marks).\n",
        "- Question: Which job roles have the highest and lowest average mental Work Life Balance? (1 mark)"
      ],
      "metadata": {
        "id": "SRu7LPAYEOjw"
      }
    },
    {
      "cell_type": "code",
      "source": [
        "# Write code here\n",
        "mean_wlb.sort_values().plot(kind='bar', figsize=(10, 5), color='skyblue', edgecolor='black')\n",
        "plt.xlabel('Job Role')\n",
        "plt.ylabel('Average Work Life Balance Rating')\n",
        "plt.title('Average Work Life Balance by Job Role')\n",
        "plt.xticks(rotation=45, ha='right')\n",
        "plt.show()"
      ],
      "metadata": {
        "id": "hshPHrEJ_0TL"
      },
      "execution_count": null,
      "outputs": []
    },
    {
      "cell_type": "markdown",
      "source": [
        "## 12. Pie Chart of Workload Level Distribution (5 marks)\n",
        "- Instructions: Use a pie chart to show the proportion of `Access_to_Mental_Health_Resources` (Yes and no) in the dataset (4 marks).\n",
        "- Question: What percentage of employees have access to mental health resources? (1 mark)"
      ],
      "metadata": {
        "id": "ZT4ReqO1EWyJ"
      }
    },
    {
      "cell_type": "code",
      "source": [
        "# Write code here\n",
        "\n",
        "mental_health_resources = data['Access_to_Mental_Health_Resources'].value_counts()\n",
        "plt.figure(figsize=(6, 6))\n",
        "mental_health_resources.plot(kind='pie', autopct='%1.1f%%', startangle=90, labels=['Yes', 'No'], colors=['lightblue', 'lightcoral'])\n",
        "plt.title('Access to Mental Health Resources')\n",
        "plt.ylabel('')\n",
        "plt.show()"
      ],
      "metadata": {
        "id": "loB1n-fe_0Lj"
      },
      "execution_count": null,
      "outputs": []
    },
    {
      "cell_type": "markdown",
      "source": [
        "## 13. Scatter Plot of Age vs. Social Isolation Rating (6 marks)\n",
        "- Instructions: Create a scatter plot with `age` on the x-axis and `Social_Isolation_Rating` on the y-axis (4 marks).\n",
        "- Question: Do you observe any trends or relationships between age and social isolation? Is there a noticeable impact of age on isoloation? (2 marks)"
      ],
      "metadata": {
        "id": "huTl0I35Eeta"
      }
    },
    {
      "cell_type": "code",
      "source": [
        "# Write code here\n",
        "plt.figure(figsize=(8, 5))\n",
        "plt.scatter(data['Age'], data['Social_Isolation_Rating'], alpha=0.7)\n",
        "plt.xlabel('Age')\n",
        "plt.ylabel('Social Isolation Rating')\n",
        "plt.title('Age vs. Social Isolation Rating')\n",
        "plt.show()"
      ],
      "metadata": {
        "id": "_XG_OCnC_0Do"
      },
      "execution_count": null,
      "outputs": []
    },
    {
      "cell_type": "markdown",
      "source": [
        "# Section 3 - Long Answer/Advanced (20%)\n",
        "\n"
      ],
      "metadata": {
        "id": "gegyzqphE2_G"
      }
    },
    {
      "cell_type": "markdown",
      "source": [
        "## Job Role and Workload Level Impact on Mental Health\n",
        "\n",
        "Instructions: Investigate the influence of job roles and workload level on the mental health.\n",
        "- Create a new column `workload_level` that labels each entry as \"High\" if the `Hours_Worked_Per_Week` is above its mean, otherwise \"Low.\" (5 marks)\n",
        "- Group the dataset by `Industry` and calculate the average `Hours_Worked_Per_Week` for each combination. (5 marks)\n",
        "- Use a bar chart to display the average `Stress_Level` for each job role, with separate bars for high and low stress levels. (5 marks)\n",
        "- Analyze the results: Which job roles and workload levels appear to have the greatest impact on mental health? (5 marks)\n"
      ],
      "metadata": {
        "id": "pK8L8R23FALn"
      }
    },
    {
      "cell_type": "code",
      "source": [
        "\n",
        "# 1. Create a new column 'workload_level'\n",
        "mean_hours = data['Hours_Worked_Per_Week'].mean()\n",
        "data['workload_level'] = data['Hours_Worked_Per_Week'].apply(lambda x: 'High' if x > mean_hours else 'Low')\n",
        "print(\"\\nAdded 'workload_level' column based on mean Hours_Worked_Per_Week.\")\n",
        "\n",
        "# 2. Group the dataset by Industry and calculate the average Hours_Worked_Per_Week for each combination\n",
        "industry_avg_hours = data.groupby('Industry')['Hours_Worked_Per_Week'].mean()\n",
        "print(\"\\nAverage Hours Worked Per Week by Industry:\")\n",
        "print(industry_avg_hours)\n",
        "\n",
        "# 3. Bar chart: Average Stress_Level for each job role with separate bars for high and low workload levels\n",
        "# Map Stress_Level to numeric values for aggregation\n",
        "stress_mapping = {'Low': 1, 'Medium': 2, 'High': 3}\n",
        "data['Stress_Level_Numeric'] = data['Stress_Level'].map(stress_mapping)\n",
        "\n",
        "# Calculate average stress levels by Job_Role and workload_level\n",
        "avg_stress = data.groupby(['Job_Role', 'workload_level'])['Stress_Level_Numeric'].mean().unstack()\n",
        "\n",
        "# Plotting the bar chart\n",
        "avg_stress.plot(kind='bar', figsize=(10, 6), color=['skyblue', 'salmon'], edgecolor='black')\n",
        "plt.xlabel('Job Role')\n",
        "plt.ylabel('Average Stress Level')\n",
        "plt.title('Average Stress Level by Job Role and Workload Level')\n",
        "plt.legend(['Low Workload', 'High Workload'], title='Workload Level')\n",
        "plt.xticks(rotation=45, ha='right')\n",
        "plt.show()\n",
        "\n",
        "# 4. Analysis of results\n",
        "print(\"\\nAnalysis:\")\n",
        "print(\"Job roles with the highest stress levels under high workload:\")\n",
        "highest_stress_high = avg_stress['High'].idxmax()\n",
        "print(f\"- {highest_stress_high}: {avg_stress['High'].max():.2f} (High Workload)\")\n",
        "\n",
        "print(\"\\nJob roles with the highest stress levels under low workload:\")\n",
        "highest_stress_low = avg_stress['Low'].idxmax()\n",
        "print(f\"- {highest_stress_low}: {avg_stress['Low'].max():.2f} (Low Workload)\")\n",
        "\n",
        "# Additional insight: Differences in stress levels between workload levels\n",
        "stress_diff = avg_stress['High'] - avg_stress['Low']\n",
        "most_impactful_job_role = stress_diff.idxmax()\n",
        "print(\"\\nJob role most impacted by workload level difference:\")\n",
        "print(f\"- {most_impactful_job_role}: Difference = {stress_diff.max():.2f}\")\n"
      ],
      "metadata": {
        "id": "UeHUHXrK_z5d"
      },
      "execution_count": null,
      "outputs": []
    }
  ]
}